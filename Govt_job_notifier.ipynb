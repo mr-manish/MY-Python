{
 "cells": [
  {
   "cell_type": "code",
   "execution_count": 13,
   "id": "246b1049",
   "metadata": {},
   "outputs": [],
   "source": [
    "import pandas as pd"
   ]
  },
  {
   "cell_type": "code",
   "execution_count": 14,
   "id": "01a944a2",
   "metadata": {},
   "outputs": [],
   "source": [
    "def filter_(word):\n",
    "    li = ['Relevant','MBBS']\n",
    "    for i in li:\n",
    "        if i in [word]:\n",
    "            return False\n",
    "    else:\n",
    "        return True"
   ]
  },
  {
   "cell_type": "code",
   "execution_count": 15,
   "id": "29622ebd",
   "metadata": {},
   "outputs": [],
   "source": [
    "import requests\n",
    "\n",
    "url1 = 'https://www.freejobalert.com/government-jobs/'\n",
    "url2 = 'https://www.freejobalert.com/railway-jobs/'\n",
    "url3 = 'https://www.freejobalert.com/ap-government-jobs/'\n",
    "url4 = 'https://www.freejobalert.com/bank-jobs/'\n",
    "\n",
    "header = {\n",
    "  \"User-Agent\": \"Mozilla/5.0 (X11; Linux x86_64) AppleWebKit/537.36 (KHTML, like Gecko) Chrome/50.0.2661.75 Safari/537.36\",\n",
    "  \"X-Requested-With\": \"XMLHttpRequest\"\n",
    "}\n",
    "\n",
    "r1 = requests.get(url1, headers=header)\n",
    "r2 = requests.get(url2, headers=header)\n",
    "r3 = requests.get(url3, headers=header)\n",
    "r4 = requests.get(url4, headers=header)"
   ]
  },
  {
   "cell_type": "code",
   "execution_count": 16,
   "id": "ccd81af6",
   "metadata": {},
   "outputs": [],
   "source": [
    "india_jobs = pd.read_html(r1.text)\n",
    "to_drop = []\n",
    "for item in range(len(india_jobs)):\n",
    "    if 'Qualification' in india_jobs[item].columns:\n",
    "        df = india_jobs[item]\n",
    "        df = df[~df['Qualification'].astype(str).str.contains('Relevant|MBBS',regex=True)]\n",
    "        df = df.drop(['Post Date','Advt No','More Information'],axis=1)\n",
    "        india_jobs.append(df)\n",
    "    else:\n",
    "        india_jobs[item] = False\n",
    "\n",
    "for item in india_jobs:\n",
    "    if type(item) == bool:\n",
    "        india_jobs.remove(item)\n",
    "\n",
    "val = int(len(india_jobs)/2)\n",
    "india_jobs = india_jobs[val:]"
   ]
  },
  {
   "cell_type": "code",
   "execution_count": 18,
   "id": "684eea25",
   "metadata": {},
   "outputs": [],
   "source": [
    "railway_jobs = pd.read_html(r2.text)\n",
    "for item in range(len(railway_jobs)):\n",
    "    if 'Qualification' in railway_jobs[item].columns:\n",
    "        df = railway_jobs[item]\n",
    "        df = df[~df['Qualification'].astype(str).str.contains('Relevant|MBBS',regex=True)]\n",
    "        df = df.drop(['Post Date','Advt No','More Information'],axis=1)\n",
    "        railway_jobs.append(df)\n",
    "    else:\n",
    "        railway_jobs[item] = False\n",
    "        \n",
    "for item in railway_jobs:\n",
    "    if type(item) == bool:\n",
    "        railway_jobs.remove(item)\n",
    "        \n",
    "val = int(len(railway_jobs)/2)\n",
    "railway_jobs = railway_jobs[val:]"
   ]
  },
  {
   "cell_type": "code",
   "execution_count": 19,
   "id": "2096f632",
   "metadata": {},
   "outputs": [],
   "source": [
    "bank_jobs = pd.read_html(r4.text)\n",
    "for item in range(len(bank_jobs)):\n",
    "    if 'Qualification' in bank_jobs[item].columns:\n",
    "        df = bank_jobs[item]\n",
    "        df = df[~df['Qualification'].astype(str).str.contains('Relevant|MBBS',regex=True)]\n",
    "        df = df.drop(['Post Date','Advt No','More Information'],axis=1)\n",
    "        bank_jobs.append(df)\n",
    "    else:\n",
    "        bank_jobs[item] = False\n",
    "\n",
    "for item in bank_jobs:\n",
    "    if type(item) == bool:\n",
    "        bank_jobs.remove(item)\n",
    "\n",
    "val = int(len(bank_jobs)/2)\n",
    "bank_jobs = bank_jobs[val:]"
   ]
  },
  {
   "cell_type": "code",
   "execution_count": 20,
   "id": "f0de5682",
   "metadata": {},
   "outputs": [],
   "source": [
    "ap_jobs = pd.read_html(r3.text)\n",
    "for item in range(len(ap_jobs)):\n",
    "    if 'Qualification' in ap_jobs[item].columns:\n",
    "        df = ap_jobs[item]\n",
    "        df = df[~df['Qualification'].astype(str).str.contains('Relevant|MBBS',regex=True)]\n",
    "        df = df.drop(['Post Date','Advt No','More Information'],axis=1)\n",
    "        ap_jobs.append(df)\n",
    "    else:\n",
    "        ap_jobs[item] = False\n",
    "a = ap_jobs\n",
    "for item in ap_jobs:\n",
    "    if type(item) == bool:\n",
    "        ap_jobs.remove(item)\n",
    "        \n",
    "val = int(len(ap_jobs)/2)\n",
    "ap_jobs = ap_jobs[val:]"
   ]
  },
  {
   "cell_type": "code",
   "execution_count": 21,
   "id": "8ea2c516",
   "metadata": {},
   "outputs": [],
   "source": [
    "body = f'''\n",
    "    Please find the list\n",
    "    \n",
    "    INDIA JOBS\n",
    "    {india_jobs[0].to_html}\n",
    "    {india_jobs[1].to_html}\n",
    "    {india_jobs[2].to_html}\n",
    "    {india_jobs[3].to_html}\n",
    "    RAILWAY JOBS\n",
    "    {railway_jobs[0].to_html}\n",
    "    AP JOBS\n",
    "    {ap_jobs[1].to_html}\n",
    "    BANK JOBS\n",
    "    {bank_jobs[0].to_html}\n",
    "    {bank_jobs[1].to_html}\n",
    "    '''"
   ]
  },
  {
   "cell_type": "code",
   "execution_count": 24,
   "id": "58c5bcd1",
   "metadata": {},
   "outputs": [],
   "source": [
    "from email.mime.text import MIMEText\n",
    "from email.mime.application import MIMEApplication\n",
    "from email.mime.multipart import MIMEMultipart\n",
    "from smtplib import SMTP\n",
    "import smtplib\n",
    "import sys\n",
    "\n",
    "\n",
    "recipients = ['maneeshgowdkosuru@gmail.com'] \n",
    "emaillist = [elem.strip().split(',') for elem in recipients]\n",
    "msg = MIMEMultipart()\n",
    "msg['Subject'] = \"GOVT JOBS DAILY INFO\"\n",
    "msg['From'] = 'ksaimaneesh123@gmail.com'\n",
    "\n",
    "\n",
    "html = f\"\"\"\\\n",
    "<html>\n",
    "  <head></head>\n",
    "  <body>\n",
    "  <h3>INDIAN JOBS </h3>\n",
    "  <h5>UPSC</h5>\n",
    "  {india_jobs[0].to_html()}\n",
    "  <h5>SSC</h5>\n",
    "  {india_jobs[1].to_html()}\n",
    "  <h3>Ap JObs</h3>\n",
    "  {ap_jobs[1].to_html()}\n",
    "  <h3>Railway Jobs</h3>\n",
    "  {railway_jobs[0].to_html()}\n",
    "  <h3>BANK JOBS</h3>\n",
    "  {bank_jobs[0].to_html()}\n",
    "  {bank_jobs[1].to_html()}\n",
    "  <h3>Other All india Jobs</h3>\n",
    "  {india_jobs[2].to_html()}\n",
    "  <h3>All india fellow Jobs</h3>\n",
    "  {india_jobs[3].to_html()}\n",
    "  </body>\n",
    "</html>\n",
    "\"\"\"\n",
    "\n",
    "part1 = MIMEText(html, 'html')\n",
    "msg.attach(part1)"
   ]
  },
  {
   "cell_type": "code",
   "execution_count": 25,
   "id": "b80e523c",
   "metadata": {},
   "outputs": [
    {
     "data": {
      "text/plain": [
       "{}"
      ]
     },
     "execution_count": 25,
     "metadata": {},
     "output_type": "execute_result"
    }
   ],
   "source": [
    "s = smtplib.SMTP('smtp.gmail.com', 587)\n",
    "s.starttls()\n",
    "s.login(\"ksaimaneesh123@gmail.com\", \"nzkylxmzgfwmczuy\")\n",
    "s.sendmail(msg['From'], emaillist , msg.as_string())"
   ]
  },
  {
   "cell_type": "markdown",
   "id": "08725672",
   "metadata": {},
   "source": []
  }
 ],
 "metadata": {
  "kernelspec": {
   "display_name": "Python 3 (ipykernel)",
   "language": "python",
   "name": "python3"
  },
  "language_info": {
   "codemirror_mode": {
    "name": "ipython",
    "version": 3
   },
   "file_extension": ".py",
   "mimetype": "text/x-python",
   "name": "python",
   "nbconvert_exporter": "python",
   "pygments_lexer": "ipython3",
   "version": "3.10.7"
  }
 },
 "nbformat": 4,
 "nbformat_minor": 5
}
