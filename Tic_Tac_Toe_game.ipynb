{
 "cells": [
  {
   "cell_type": "code",
   "execution_count": 10,
   "metadata": {},
   "outputs": [],
   "source": [
    "from IPython.display import clear_output"
   ]
  },
  {
   "cell_type": "code",
   "execution_count": 11,
   "metadata": {},
   "outputs": [],
   "source": [
    "def display_board(board):\n",
    "    print('This is the current board')\n",
    "    print(f'''\n",
    "    {board[0]} | {board[1]} | {board[2]}\n",
    "    ---------\n",
    "    {board[3]} | {board[4]} | {board[5]}\n",
    "    ---------\n",
    "    {board[6]} | {board[7]} | {board[8]}\n",
    "    ''')"
   ]
  },
  {
   "cell_type": "code",
   "execution_count": 12,
   "metadata": {},
   "outputs": [],
   "source": [
    "def symbol_selector():\n",
    "    \n",
    "    choice = ''\n",
    "    \n",
    "    while choice not in ['X','O']:\n",
    "        \n",
    "        choice = input('Player 1 take the symbol from \"X\" or \"O\"')\n",
    "        clear_output()\n",
    "        \n",
    "    if choice == 'X':\n",
    "        print(f'Player 1 choice is \"X\" and Player 2 choice is \"O\"')\n",
    "        return 'X','O'\n",
    "    \n",
    "    else:\n",
    "        print(f'Player 1 choice is \"O\" and Player 2 choice is \"X\"')\n",
    "        return 'O','X'"
   ]
  },
  {
   "cell_type": "code",
   "execution_count": 13,
   "metadata": {},
   "outputs": [],
   "source": [
    "def checker(board,symbol):\n",
    "    \n",
    "    if board[0] == board[1] == board[2] == symbol:\n",
    "        print(f'{symbol} won')\n",
    "        return symbol\n",
    "    elif board[3] == board[4] == board[5] == symbol:\n",
    "        print(f'{symbol} won')\n",
    "        return symbol\n",
    "    elif board[6] == board[7] == board[8] == symbol:\n",
    "        print(f'{symbol} won')\n",
    "        return symbol\n",
    "    elif board[0] == board[3] == board[6] == symbol:\n",
    "        print(f'{symbol} won')\n",
    "        return symbol\n",
    "    elif board[1] == board[4] == board[7] == symbol:\n",
    "        print(f'{symbol} won')\n",
    "        return symbol\n",
    "    elif board[2] == board[5] == board[8] == symbol:\n",
    "        print(f'{symbol} won')\n",
    "        return symbol\n",
    "    elif board[0] == board[4] == board[8] == symbol:\n",
    "        print(f'{symbol} won')\n",
    "        return symbol\n",
    "    elif board[2] == board[4] == board[6] == symbol:\n",
    "        print(f'{symbol} won')\n",
    "        return symbol\n",
    "    else:\n",
    "        return 0"
   ]
  },
  {
   "cell_type": "code",
   "execution_count": 14,
   "metadata": {},
   "outputs": [],
   "source": [
    "def tracker(board,player,position):\n",
    "    board[position-1] = player\n",
    "    return board"
   ]
  },
  {
   "cell_type": "code",
   "execution_count": 15,
   "metadata": {},
   "outputs": [],
   "source": [
    "def player_choice(symbol,board):  \n",
    "    p_c = ' '\n",
    "    while True:\n",
    "        while p_c not in (range(1,10)):\n",
    "            p_c = int(input(f'\"{symbol}\" choose the position from 1 to 9 '))\n",
    "            if board[p_c-1] == ' ':\n",
    "                return p_c\n",
    "            else:\n",
    "                p_c = ' '\n",
    "                print('The value you choose is already filled.Please select again')"
   ]
  },
  {
   "cell_type": "code",
   "execution_count": 16,
   "metadata": {},
   "outputs": [],
   "source": [
    "def play_game():\n",
    "    \n",
    "    board = [' '] * 9\n",
    "    \n",
    "    display_board(board)\n",
    "\n",
    "    player_1,player_2 = symbol_selector()\n",
    "    \n",
    "    print(f'Since player 1 choose the symbol its player 2 choice to go first')\n",
    "    \n",
    "    current = player_2\n",
    "    position = player_choice(current,board)\n",
    "    clear_output()\n",
    "    \n",
    "    while True:\n",
    "\n",
    "        board = tracker(board,current,position)\n",
    "\n",
    "        display_board(board)\n",
    "\n",
    "        if checker(board,current) == current:\n",
    "            break\n",
    "\n",
    "        if current == player_1:\n",
    "            current = player_2\n",
    "        else:\n",
    "            current = player_1\n",
    "            \n",
    "        if ' ' not in board:\n",
    "            clear_output()\n",
    "            print('Its a draw \\n')\n",
    "            display_board(board)\n",
    "            break\n",
    "\n",
    "        position = player_choice(current,board)\n",
    "        clear_output()"
   ]
  },
  {
   "cell_type": "code",
   "execution_count": 18,
   "metadata": {},
   "outputs": [
    {
     "name": "stdout",
     "output_type": "stream",
     "text": [
      "Its a draw \n",
      "\n",
      "This is the current board\n",
      "\n",
      "    O | X | O\n",
      "    ---------\n",
      "    O | O | X\n",
      "    ---------\n",
      "    X | O | X\n",
      "    \n"
     ]
    }
   ],
   "source": [
    "play_game()"
   ]
  },
  {
   "cell_type": "code",
   "execution_count": null,
   "metadata": {},
   "outputs": [],
   "source": []
  }
 ],
 "metadata": {
  "kernelspec": {
   "display_name": "Python 3 (ipykernel)",
   "language": "python",
   "name": "python3"
  },
  "language_info": {
   "codemirror_mode": {
    "name": "ipython",
    "version": 3
   },
   "file_extension": ".py",
   "mimetype": "text/x-python",
   "name": "python",
   "nbconvert_exporter": "python",
   "pygments_lexer": "ipython3",
   "version": "3.10.7"
  }
 },
 "nbformat": 4,
 "nbformat_minor": 1
}
