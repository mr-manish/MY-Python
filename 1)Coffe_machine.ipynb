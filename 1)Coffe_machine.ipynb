{
 "cells": [
  {
   "cell_type": "code",
   "execution_count": 1,
   "id": "2ecc372f",
   "metadata": {},
   "outputs": [],
   "source": [
    "import time"
   ]
  },
  {
   "cell_type": "code",
   "execution_count": 2,
   "id": "bb101e36",
   "metadata": {},
   "outputs": [],
   "source": [
    "water = 300\n",
    "coffee = 100\n",
    "milk = 200\n",
    "money = 0"
   ]
  },
  {
   "cell_type": "code",
   "execution_count": 3,
   "id": "44529702",
   "metadata": {},
   "outputs": [],
   "source": [
    "def coins_money():\n",
    "    '''\n",
    "    Takes coins as input and returns money as output.No arguments need to given\n",
    "    '''\n",
    "    \n",
    "    \n",
    "    print('Please inset coins')\n",
    "    quarters = int(input('How many quarters : '))\n",
    "    dimes = int(input('How many dimes : '))\n",
    "    nikels = int(input('How many nikels : '))\n",
    "    pennies = int(input('How many pennies : '))\n",
    "    amount = quarters*0.25+dimes*0.1+nikels*0.05+pennies*0.01\n",
    "    return round(amount,3)"
   ]
  },
  {
   "cell_type": "code",
   "execution_count": 4,
   "id": "05f4b04b",
   "metadata": {},
   "outputs": [],
   "source": [
    "def coffe_choice(water,coffee,milk,coins_money):\n",
    "    '''\n",
    "    Argeuments : water,coffee,milk,amount\n",
    "    takes input what type of coffee you need\n",
    "    returns coffes parameters\n",
    "    '''\n",
    "    \n",
    "    choice = input('What type of coffe you want :(espresso,latte,cappuccino) : ')\n",
    "    \n",
    "    # coffee choice 'espresso' case\n",
    "    if choice == 'espresso':\n",
    "        \n",
    "        # if there is no sufficient quantities\n",
    "        if water < 50 or coffee < 18 or coins_money < 1.50:\n",
    "            print('Sorry insufficent quantity')\n",
    "            return 0,0,0,0,coins_money\n",
    "        \n",
    "        # if there are quantitities\n",
    "        else:\n",
    "            print('zzzzzzzz')\n",
    "            time.sleep(3)\n",
    "            remaining_money = coins_money - 1.50\n",
    "            return 50,18,0,1.50,remaining_money\n",
    "    \n",
    "    # coffee choice \"latte\" case\n",
    "    elif choice == 'latte':\n",
    "        \n",
    "        # if there is no sufficient quantities\n",
    "        if water < 200 or coffee < 24 or milk < 150 or coins_money < 2.50:\n",
    "            print('Sorry insufficent quantity')\n",
    "            return 0,0,0,0,coins_money\n",
    "        \n",
    "        # if there are quantitities\n",
    "        else:\n",
    "            print('zzzzzzzz')\n",
    "            time.sleep(3)\n",
    "            remaining_money = coins_money - 2.50\n",
    "            return 200,24,150,2.50,remaining_money\n",
    "        \n",
    "    # coffee choice \"cappuccino\" case\n",
    "    elif choice == 'cappuccino':\n",
    "        \n",
    "        # if there is no sufficient quantities\n",
    "        if water < 250 or coffee < 24 or milk < 100 or coins_money < 3:\n",
    "            print('Sorry insufficent quantity')\n",
    "            return 0,0,0,0,coins_money\n",
    "        \n",
    "        # if there are quantitities\n",
    "        else:\n",
    "            print('zzzzzzzz')\n",
    "            time.sleep(3)\n",
    "            remaining_money = coins_money - 3\n",
    "            return 250,24,100,3,remaining_money\n",
    "        \n",
    "    # if the choice is something\n",
    "    else:\n",
    "        print('You entered something that is not in the list')\n",
    "        return 0,0,0,0,coins_money"
   ]
  },
  {
   "cell_type": "code",
   "execution_count": 5,
   "id": "3b4b9ac0",
   "metadata": {},
   "outputs": [],
   "source": [
    "def coffee_machine(water,coffee,milk,money):\n",
    "    '''\n",
    "    Takes water,coffee,milk,money as arguments\n",
    "    return water,coffee,milk reduced from machine and money added to machine\n",
    "    '''\n",
    "    \n",
    "    # asks you what type of coins you have\n",
    "    amount = coins_money()\n",
    "    \n",
    "    #return cost of that coffee\n",
    "    wa,co,mi,mo,remaining = coffe_choice(water,coffee,milk,amount)\n",
    "    \n",
    "    # subracts quantities in machine\n",
    "    water = water - wa\n",
    "    coffee = coffee - co\n",
    "    milk = milk - mi\n",
    "    money = money + mo\n",
    "    \n",
    "    # prints thnak you if money is added to machine\n",
    "    if mo != 0:\n",
    "        print('Thank you customer')\n",
    "        print('Here is your coffee\\n')\n",
    "        \n",
    "    # gives you remaining amount\n",
    "    print(f'here is your amount {remaining}\\n')\n",
    "    \n",
    "    # returns updated quanties of items in machine\n",
    "    return water,coffee,milk,money"
   ]
  },
  {
   "cell_type": "code",
   "execution_count": 6,
   "id": "32d0d0c9",
   "metadata": {},
   "outputs": [
    {
     "name": "stdout",
     "output_type": "stream",
     "text": [
      " \n",
      "water : 300ml\n",
      "coffee : 100ml\n",
      "milk : 200ml\n",
      "money : $0\n",
      "    \n"
     ]
    }
   ],
   "source": [
    "report = f''' \n",
    "water : {water}ml\n",
    "coffee : {coffee}ml\n",
    "milk : {milk}ml\n",
    "money : ${money}\n",
    "    '''\n",
    "\n",
    "print(report)"
   ]
  },
  {
   "cell_type": "code",
   "execution_count": 7,
   "id": "dd8d7278",
   "metadata": {},
   "outputs": [
    {
     "name": "stdout",
     "output_type": "stream",
     "text": [
      "Please inset coins\n",
      "How many quarters : 12\n",
      "How many dimes : 12\n",
      "How many nikels : 12\n",
      "How many pennies : 12\n",
      "What type of coffe you want :(espresso,latte,cappuccino) : latte\n",
      "zzzzzzzz\n",
      "Thank you customer\n",
      "Here is your coffee\n",
      "\n",
      "here is your amount 2.42\n",
      "\n",
      "Do you want another coffee \"Yes\" or \"No\" : yes\n",
      "Please inset coins\n",
      "How many quarters : 12\n",
      "How many dimes : 12\n",
      "How many nikels : 12\n",
      "How many pennies : 12\n",
      "What type of coffe you want :(espresso,latte,cappuccino) : espresso\n",
      "zzzzzzzz\n",
      "Thank you customer\n",
      "Here is your coffee\n",
      "\n",
      "here is your amount 3.42\n",
      "\n",
      "Do you want another coffee \"Yes\" or \"No\" : Yes\n",
      "Please inset coins\n",
      "How many quarters : 12\n",
      "How many dimes : 12\n",
      "How many nikels : 12\n",
      "How many pennies : 12\n",
      "What type of coffe you want :(espresso,latte,cappuccino) : cappuccino\n",
      "Sorry insufficent quantity\n",
      "here is your amount 4.92\n",
      "\n",
      "Do you want another coffee \"Yes\" or \"No\" : No\n"
     ]
    }
   ],
   "source": [
    "flag = True\n",
    "while flag:\n",
    "    \n",
    "    water,coffee,milk,money = coffee_machine(water,coffee,milk,money)\n",
    "\n",
    "    report = f''' \n",
    "    water : {water}ml\n",
    "    coffee : {coffee}ml\n",
    "    milk : {milk}ml\n",
    "    money : ${money}\n",
    "    '''\n",
    "    choice = input('Do you want another coffee \"Yes\" or \"No\" : ')\n",
    "    \n",
    "    if choice == 'No':\n",
    "        flag = False"
   ]
  },
  {
   "cell_type": "code",
   "execution_count": 8,
   "id": "1f5e853f",
   "metadata": {},
   "outputs": [
    {
     "name": "stdout",
     "output_type": "stream",
     "text": [
      " \n",
      "    water : 50ml\n",
      "    coffee : 58ml\n",
      "    milk : 50ml\n",
      "    money : $4.0\n",
      "    \n"
     ]
    }
   ],
   "source": [
    "print(report)"
   ]
  }
 ],
 "metadata": {
  "kernelspec": {
   "display_name": "Python 3 (ipykernel)",
   "language": "python",
   "name": "python3"
  },
  "language_info": {
   "codemirror_mode": {
    "name": "ipython",
    "version": 3
   },
   "file_extension": ".py",
   "mimetype": "text/x-python",
   "name": "python",
   "nbconvert_exporter": "python",
   "pygments_lexer": "ipython3",
   "version": "3.9.7"
  }
 },
 "nbformat": 4,
 "nbformat_minor": 5
}
