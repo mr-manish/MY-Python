{
 "cells": [
  {
   "cell_type": "code",
   "execution_count": 12,
   "id": "238497db",
   "metadata": {},
   "outputs": [],
   "source": [
    "# pip install twilio"
   ]
  },
  {
   "cell_type": "code",
   "execution_count": 13,
   "id": "f84d1103",
   "metadata": {},
   "outputs": [],
   "source": [
    "#pip install python-decouple"
   ]
  },
  {
   "cell_type": "code",
   "execution_count": 14,
   "id": "685831ca",
   "metadata": {},
   "outputs": [],
   "source": [
    "import requests\n",
    "from bs4 import BeautifulSoup\n",
    "import time\n",
    "import datetime\n",
    "\n",
    "import smtplib\n",
    "import pandas as pd\n"
   ]
  },
  {
   "cell_type": "markdown",
   "id": "d0bdbac2",
   "metadata": {},
   "source": [
    "Sending mail,sms to my self regarding price drop"
   ]
  },
  {
   "cell_type": "code",
   "execution_count": 15,
   "id": "2bd863ae",
   "metadata": {},
   "outputs": [],
   "source": [
    "def send_mail():\n",
    "\n",
    "\n",
    "    # Python code to illustrate Sending mail from\n",
    "    # your Gmail account\n",
    "    import smtplib\n",
    "\n",
    "    # creates SMTP session\n",
    "    s = smtplib.SMTP('smtp.gmail.com', 587)\n",
    "\n",
    "    # start TLS for security\n",
    "    s.starttls()\n",
    "\n",
    "    # Authentication\n",
    "    s.login(\"ksaimaneesh123@gmail.com\", \"yxez**********\")\n",
    "\n",
    "    subject = \"The Earphones you want is below 1000! Now is your chance to buy!\"\n",
    "    body = \"Maneesh, This is the moment we have been waiting for. Now is your chance to pick up the earphones of your dreams. Don't mess it up! Link here:https://www.amazon.in/boAt-Rockerz-255-Pro-Earphones/dp/B08TV2P1N8/?_encoding=UTF8&pd_rd_w=lSFEJ&pf_rd_p=3566a55a-b9ac-4146-8b21-954e82a5c894&pf_rd_r=1C1HB66CEMNE7CAAWHQ9&pd_rd_r=b439d2bc-98bc-4e2a-b120-a116a1b3fb8b&pd_rd_wg=TWvdg&ref_=pd_gw_ci_mcx_mr_hp_atf_m\"\n",
    "\n",
    "    message = f\"Subject: {subject}\\n\\n{body}\"\n",
    "\n",
    "    # sending the mail\n",
    "    s.sendmail(\"ksaimaneesh123@gmail.com\", \"maneeshgowdkosuru@gmail.com\", message)\n",
    "\n",
    "    # terminating the session\n",
    "    s.quit()\n",
    "\n",
    "\n",
    "def send_sms():\n",
    "    \n",
    "    # importing twilio\n",
    "    from twilio.rest import Client\n",
    "\n",
    "    # Your Account Sid and Auth Token from twilio.com / console\n",
    "    account_sid = 'A******************************'\n",
    "    auth_token = '9*******************************'\n",
    "\n",
    "    client = Client(account_sid, auth_token)\n",
    "\n",
    "\n",
    "    client.messages.create(\n",
    "                            from_='+15172082018',\n",
    "                            body ='Your item on amazon dropped the price',\n",
    "                            to ='+918500402499'\n",
    "                            )"
   ]
  },
  {
   "cell_type": "markdown",
   "id": "70981b7b",
   "metadata": {},
   "source": [
    "Webscraping"
   ]
  },
  {
   "cell_type": "code",
   "execution_count": 30,
   "id": "295d79e1",
   "metadata": {},
   "outputs": [],
   "source": [
    "headers = {'User-Agent' : 'Mozilla/5.0 (Macintosh; Intel Mac OS X 10_14_5) AppleWebKit/537.36 (KHTML, like Gecko) Chrome/84.0.4147.89 Safari/537.36'}\n",
    "\n",
    "url = 'https://www.amazon.in/dp/B08TV2P1N8'\n",
    "req = requests.get(url,headers=headers)\n",
    "\n",
    "\n",
    "soup = BeautifulSoup(req.content, \"lxml\")\n"
   ]
  },
  {
   "cell_type": "markdown",
   "id": "d30b6b02",
   "metadata": {},
   "source": [
    "cleaning"
   ]
  },
  {
   "cell_type": "code",
   "execution_count": 55,
   "id": "64ff9721",
   "metadata": {},
   "outputs": [
    {
     "name": "stdout",
     "output_type": "stream",
     "text": [
      "1499\n"
     ]
    }
   ],
   "source": [
    "price_tag = soup.find('span',{'class':'a-price a-text-price a-size-medium apexPriceToPay'}).get_text()[1:6]\n",
    "\n",
    "price_numbers = list(price_tag)\n",
    "\n",
    "if ',' in price_numbers:\n",
    "    price_numbers.remove(',')\n",
    "    price = int(''.join(price_numbers))\n",
    "    \n",
    "print(price)"
   ]
  },
  {
   "cell_type": "markdown",
   "id": "7d5d0a7e",
   "metadata": {},
   "source": [
    "Analyzing and sending mail if true"
   ]
  },
  {
   "cell_type": "code",
   "execution_count": null,
   "id": "e88d8723",
   "metadata": {},
   "outputs": [],
   "source": [
    "while True:\n",
    "    \n",
    "    # if price less than 1000 it will send sms and mail\n",
    "    if int(price)<=1000:\n",
    "        send_mail()\n",
    "        send_sms()\n",
    "\n",
    "    # code will run continously once every 24 hours\n",
    "    time.sleep(24*60*60)\n"
   ]
  },
  {
   "cell_type": "code",
   "execution_count": 11,
   "id": "f1ee0c9e",
   "metadata": {},
   "outputs": [
    {
     "name": "stdout",
     "output_type": "stream",
     "text": [
      "It will print every 5 seconds\n",
      "It will print every 5 seconds\n",
      "It will print every 5 seconds\n",
      "It will print every 5 seconds\n",
      "It will print every 5 seconds\n"
     ]
    },
    {
     "ename": "KeyboardInterrupt",
     "evalue": "",
     "output_type": "error",
     "traceback": [
      "\u001b[1;31m---------------------------------------------------------------------------\u001b[0m",
      "\u001b[1;31mKeyboardInterrupt\u001b[0m                         Traceback (most recent call last)",
      "\u001b[1;32m~\\AppData\\Local\\Temp/ipykernel_12824/1750580389.py\u001b[0m in \u001b[0;36m<module>\u001b[1;34m\u001b[0m\n\u001b[0;32m      1\u001b[0m \u001b[1;32mwhile\u001b[0m \u001b[1;32mTrue\u001b[0m\u001b[1;33m:\u001b[0m\u001b[1;33m\u001b[0m\u001b[1;33m\u001b[0m\u001b[0m\n\u001b[0;32m      2\u001b[0m     \u001b[0mprint\u001b[0m\u001b[1;33m(\u001b[0m\u001b[1;34m'It will print every 5 seconds'\u001b[0m\u001b[1;33m)\u001b[0m\u001b[1;33m\u001b[0m\u001b[1;33m\u001b[0m\u001b[0m\n\u001b[1;32m----> 3\u001b[1;33m     \u001b[0mtime\u001b[0m\u001b[1;33m.\u001b[0m\u001b[0msleep\u001b[0m\u001b[1;33m(\u001b[0m\u001b[1;36m5\u001b[0m\u001b[1;33m)\u001b[0m\u001b[1;33m\u001b[0m\u001b[1;33m\u001b[0m\u001b[0m\n\u001b[0m",
      "\u001b[1;31mKeyboardInterrupt\u001b[0m: "
     ]
    }
   ],
   "source": [
    "# while True:\n",
    "#     print('It will print every 5 seconds')\n",
    "#     time.sleep(5)"
   ]
  },
  {
   "cell_type": "code",
   "execution_count": 18,
   "id": "8c393c7a",
   "metadata": {},
   "outputs": [
    {
     "data": {
      "text/html": [
       "<div>\n",
       "<style scoped>\n",
       "    .dataframe tbody tr th:only-of-type {\n",
       "        vertical-align: middle;\n",
       "    }\n",
       "\n",
       "    .dataframe tbody tr th {\n",
       "        vertical-align: top;\n",
       "    }\n",
       "\n",
       "    .dataframe thead th {\n",
       "        text-align: right;\n",
       "    }\n",
       "</style>\n",
       "<table border=\"1\" class=\"dataframe\">\n",
       "  <thead>\n",
       "    <tr style=\"text-align: right;\">\n",
       "      <th></th>\n",
       "      <th>Title</th>\n",
       "      <th>Price</th>\n",
       "    </tr>\n",
       "  </thead>\n",
       "  <tbody>\n",
       "    <tr>\n",
       "      <th>0</th>\n",
       "      <td>boAt Rockerz 255 Pro+ Bluetooth Wirele...</td>\n",
       "      <td>1,399.</td>\n",
       "    </tr>\n",
       "  </tbody>\n",
       "</table>\n",
       "</div>"
      ],
      "text/plain": [
       "                                               Title   Price\n",
       "0          boAt Rockerz 255 Pro+ Bluetooth Wirele...  1,399."
      ]
     },
     "execution_count": 18,
     "metadata": {},
     "output_type": "execute_result"
    }
   ],
   "source": [
    "# title = soup.find('span',{'id' : 'productTitle'}).get_text()\n",
    "# print(title.strip())\n",
    "\n",
    "# df = pd.DataFrame(columns=['Title','Price'])\n",
    "\n",
    "# df.loc[len(df.index)] = [title,price]\n",
    "\n",
    "# df\n",
    "\n",
    "# df.to_csv('scrapper.csv',index=False)"
   ]
  }
 ],
 "metadata": {
  "kernelspec": {
   "display_name": "Python 3 (ipykernel)",
   "language": "python",
   "name": "python3"
  },
  "language_info": {
   "codemirror_mode": {
    "name": "ipython",
    "version": 3
   },
   "file_extension": ".py",
   "mimetype": "text/x-python",
   "name": "python",
   "nbconvert_exporter": "python",
   "pygments_lexer": "ipython3",
   "version": "3.9.7"
  }
 },
 "nbformat": 4,
 "nbformat_minor": 5
}
