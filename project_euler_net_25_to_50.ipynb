{
 "cells": [
  {
   "cell_type": "markdown",
   "id": "61e6b1e6",
   "metadata": {},
   "source": [
    "### Reciprocal cycles\n",
    "\n",
    "#### Problem 26\n",
    "\n",
    "<p>A unit fraction contains 1 in the numerator. The decimal representation of the unit fractions with denominators 2 to 10 are given:</p>\n",
    "<blockquote>\n",
    "<table><tr><td><sup>1</sup>/<sub>2</sub></td><td>= </td><td>0.5</td>\n",
    "</tr><tr><td><sup>1</sup>/<sub>3</sub></td><td>= </td><td>0.(3)</td>\n",
    "</tr><tr><td><sup>1</sup>/<sub>4</sub></td><td>= </td><td>0.25</td>\n",
    "</tr><tr><td><sup>1</sup>/<sub>5</sub></td><td>= </td><td>0.2</td>\n",
    "</tr><tr><td><sup>1</sup>/<sub>6</sub></td><td>= </td><td>0.1(6)</td>\n",
    "</tr><tr><td><sup>1</sup>/<sub>7</sub></td><td>= </td><td>0.(142857)</td>\n",
    "</tr><tr><td><sup>1</sup>/<sub>8</sub></td><td>= </td><td>0.125</td>\n",
    "</tr><tr><td><sup>1</sup>/<sub>9</sub></td><td>= </td><td>0.(1)</td>\n",
    "</tr><tr><td><sup>1</sup>/<sub>10</sub></td><td>= </td><td>0.1</td>\n",
    "</tr></table></blockquote>\n",
    "<p>Where 0.1(6) means 0.166666..., and has a 1-digit recurring cycle. It can be seen that <sup>1</sup>/<sub>7</sub> has a 6-digit recurring cycle.</p>\n",
    "<p>Find the value of <i>d</i> &lt; 1000 for which <sup>1</sup>/<sub><i>d</i></sub> contains the longest recurring cycle in its decimal fraction part.</p>\n"
   ]
  },
  {
   "cell_type": "code",
   "execution_count": 1,
   "id": "0c1f31df",
   "metadata": {},
   "outputs": [],
   "source": []
  },
  {
   "cell_type": "markdown",
   "id": "d0f06b8c",
   "metadata": {},
   "source": [
    "### Quadratic primes\n",
    "\n",
    "#### Problem 27\n",
    "<p>Euler discovered the remarkable quadratic formula:</p>\n",
    "<p class=\"center\">$n^2 + n + 41$</p>\n",
    "<p>It turns out that the formula will produce 40 primes for the consecutive integer values $0 \\le n \\le 39$. However, when $n = 40, 40^2 + 40 + 41 = 40(40 + 1) + 41$ is divisible by 41, and certainly when $n = 41, 41^2 + 41 + 41$ is clearly divisible by 41.</p>\n",
    "<p>The incredible formula $n^2 - 79n + 1601$ was discovered, which produces 80 primes for the consecutive values $0 \\le n \\le 79$. The product of the coefficients, −79 and 1601, is −126479.</p>\n",
    "<p>Considering quadratics of the form:</p>\n",
    "<blockquote>\n",
    "$n^2 + an + b$, where $|a| \\le 1000$ and $|b| \\le 1000$<br /><br /><div>where $|n|$ is the modulus/absolute value of $n$<br />e.g. $|11| = 11$ and $|-4| = 4$</div>\n",
    "</blockquote>\n",
    "<p>Find the product of the coefficients, $a$ and $b$, for the quadratic expression that produces the maximum number of primes for consecutive values of $n$, starting with $n = 0$.</p>"
   ]
  },
  {
   "cell_type": "code",
   "execution_count": null,
   "id": "9eeb31a2",
   "metadata": {},
   "outputs": [],
   "source": []
  },
  {
   "cell_type": "markdown",
   "id": "9effa7a7",
   "metadata": {},
   "source": [
    "### Number spiral diagonals\n",
    "#### Problem 28\n",
    "\n",
    "<p>Starting with the number 1 and moving to the right in a clockwise direction a 5 by 5 spiral is formed as follows:</p>\n",
    "<p class=\"monospace center\"><span class=\"red\"><b>21</b></span> 22 23 24 <span class=\"red\"><b>25</b></span><br />\n",
    "20  <span class=\"red\"><b>7</b></span>  8  <span class=\"red\"><b>9</b></span> 10<br />\n",
    "19  6  <span class=\"red\"><b>1</b></span>  2 11<br />\n",
    "18  <span class=\"red\"><b>5</b></span>  4  <span class=\"red\"><b>3</b></span> 12<br /><span class=\"red\"><b>17</b></span> 16 15 14 <span class=\"red\"><b>13</b></span></p>\n",
    "<p>It can be verified that the sum of the numbers on the diagonals is 101.</p>\n",
    "<p>What is the sum of the numbers on the diagonals in a 1001 by 1001 spiral formed in the same way?</p>\n"
   ]
  },
  {
   "cell_type": "code",
   "execution_count": 49,
   "id": "5cd1b595",
   "metadata": {},
   "outputs": [
    {
     "name": "stdout",
     "output_type": "stream",
     "text": [
      "Enter the number : 1001\n",
      "The sum along the diagnols of 1001 spiral matrix is 669171001\n"
     ]
    }
   ],
   "source": [
    "import numpy as np\n",
    "\n",
    "def spiral_matrix(number):\n",
    "\n",
    "    matrix = np.arange(1,number**2+1).reshape(number,number)\n",
    "\n",
    "    def spiral_cw(A):\n",
    "        A = np.array(A)\n",
    "        out = []\n",
    "        while(A.size):\n",
    "            out.append(A[0])        # take first row\n",
    "            A = A[1:].T[::-1]       # cut off first row and rotate counterclockwise\n",
    "        return np.concatenate(out)\n",
    "\n",
    "    def spiral_ccw(A):\n",
    "        A = np.array(A)\n",
    "        out = []\n",
    "        while(A.size):\n",
    "            out.append(A[0][::-1])    # first row reversed\n",
    "            A = A[1:][::-1].T         # cut off first row and rotate clockwise\n",
    "        return np.concatenate(out)\n",
    "\n",
    "    def base_spiral(nrow, ncol):\n",
    "        return spiral_ccw(np.arange(nrow*ncol).reshape(nrow,ncol))[::-1]\n",
    "\n",
    "    def to_spiral(A):\n",
    "        A = np.array(A)\n",
    "        B = np.empty_like(A)\n",
    "        B.flat[base_spiral(*A.shape)] = A.flat\n",
    "        return B\n",
    "    \n",
    "    return to_spiral(matrix)\n",
    "\n",
    "number = int(input(\"Enter the number : \"))\n",
    "\n",
    "our_spiral_matrix = spiral_matrix(number)\n",
    "\n",
    "sum_ = np.trace(our_spiral_matrix) + np.trace(np.flip(our_spiral_matrix,1)) - 1\n",
    "\n",
    "print(f\"The sum along the diagnols of {number} spiral matrix is {sum_}\")"
   ]
  },
  {
   "cell_type": "markdown",
   "id": "aee99302",
   "metadata": {},
   "source": [
    "### Distinct powers\n",
    "#### Problem 29\n",
    "<p>Consider all integer combinations of <i>a</i><sup><i>b</i></sup> for 2 ≤ <i>a</i> ≤ 5 and 2 ≤ <i>b</i> ≤ 5:</p>\n",
    "<blockquote>2<sup>2</sup>=4, 2<sup>3</sup>=8, 2<sup>4</sup>=16, 2<sup>5</sup>=32<br />\n",
    "3<sup>2</sup>=9, 3<sup>3</sup>=27, 3<sup>4</sup>=81, 3<sup>5</sup>=243<br />\n",
    "4<sup>2</sup>=16, 4<sup>3</sup>=64, 4<sup>4</sup>=256, 4<sup>5</sup>=1024<br />\n",
    "5<sup>2</sup>=25, 5<sup>3</sup>=125, 5<sup>4</sup>=625, 5<sup>5</sup>=3125<br /></blockquote>\n",
    "<p>If they are then placed in numerical order, with any repeats removed, we get the following sequence of 15 distinct terms:</p>\n",
    "<p class=\"center\">4, 8, 9, 16, 25, 27, 32, 64, 81, 125, 243, 256, 625, 1024, 3125</p>\n",
    "<p>How many distinct terms are in the sequence generated by <i>a</i><sup><i>b</i></sup> for 2 ≤ <i>a</i> ≤ 100 and 2 ≤ <i>b</i> ≤ 100?</p>\n"
   ]
  },
  {
   "cell_type": "code",
   "execution_count": 57,
   "id": "cdb91592",
   "metadata": {},
   "outputs": [
    {
     "name": "stdout",
     "output_type": "stream",
     "text": [
      "Enter lower limit : 2\n",
      "Enter upper limit : 100\n",
      "9183\n"
     ]
    }
   ],
   "source": [
    "li = []\n",
    "\n",
    "lower_limit = int(input(\"Enter lower limit : \"))\n",
    "upper_limit = int(input(\"Enter upper limit : \"))\n",
    "for i in range(lower_limit,upper_limit+1):\n",
    "    for j in range(lower_limit,upper_limit+1):\n",
    "        li.append(i**j)\n",
    "        \n",
    "print(len(set(li)))"
   ]
  },
  {
   "cell_type": "markdown",
   "id": "7206f331",
   "metadata": {},
   "source": [
    "### Digit fifth powers\n",
    "\n",
    "#### Problem 30\n",
    "\n",
    "<p>Surprisingly there are only three numbers that can be written as the sum of fourth powers of their digits:</p>\n",
    "<blockquote>1634 = 1<sup>4</sup> + 6<sup>4</sup> + 3<sup>4</sup> + 4<sup>4</sup><br />\n",
    "8208 = 8<sup>4</sup> + 2<sup>4</sup> + 0<sup>4</sup> + 8<sup>4</sup><br />\n",
    "9474 = 9<sup>4</sup> + 4<sup>4</sup> + 7<sup>4</sup> + 4<sup>4</sup></blockquote>\n",
    "<p class=\"smaller\">As 1 = 1<sup>4</sup> is not a sum it is not included.</p>\n",
    "<p>The sum of these numbers is 1634 + 8208 + 9474 = 19316.</p>\n",
    "<p>Find the sum of all the numbers that can be written as the sum of fifth powers of their digits.</p>\n"
   ]
  },
  {
   "cell_type": "code",
   "execution_count": 60,
   "id": "9a776acb",
   "metadata": {},
   "outputs": [
    {
     "name": "stdout",
     "output_type": "stream",
     "text": [
      "[54748, 92727, 93084]\n",
      "240559\n"
     ]
    }
   ],
   "source": [
    "numbers = []\n",
    "\n",
    "for number in range(10000,99999):\n",
    "    sum_ = sum([int(item)**5 for item in str(number)])\n",
    "    if number == sum_:\n",
    "        numbers.append(number)\n",
    "         \n",
    "print(numbers)\n",
    "print(sum(numbers))"
   ]
  },
  {
   "cell_type": "markdown",
   "id": "917e0ea8",
   "metadata": {},
   "source": [
    "### Coin sums\n",
    "\n",
    "#### Problem 31\n",
    "\n",
    "<p>In the United Kingdom the currency is made up of pound (£) and pence (p). There are eight coins in general circulation:</p>\n",
    "<blockquote>1p, 2p, 5p, 10p, 20p, 50p, £1 (100p), and £2 (200p).</blockquote>\n",
    "<p>It is possible to make £2 in the following way:</p>\n",
    "<blockquote>1×£1 + 1×50p + 2×20p + 1×5p + 1×2p + 3×1p</blockquote>\n",
    "<p>How many different ways can £2 be made using any number of coins?</p>\n"
   ]
  },
  {
   "cell_type": "code",
   "execution_count": null,
   "id": "3ddcf859",
   "metadata": {},
   "outputs": [],
   "source": []
  },
  {
   "cell_type": "markdown",
   "id": "fdbb05b2",
   "metadata": {},
   "source": [
    "### Pandigital products\n",
    " \n",
    "#### Problem 32\n",
    "\n",
    "<p>We shall say that an <var>n</var>-digit number is pandigital if it makes use of all the digits 1 to <var>n</var> exactly once; for example, the 5-digit number, 15234, is 1 through 5 pandigital.</p>\n",
    "\n",
    "<p>The product 7254 is unusual, as the identity, 39 × 186 = 7254, containing multiplicand, multiplier, and product is 1 through 9 pandigital.</p>\n",
    "\n",
    "<p>Find the sum of all products whose multiplicand/multiplier/product identity can be written as a 1 through 9 pandigital.</p>\n",
    "\n",
    "<div class=\"note\">HINT: Some products can be obtained in more than one way so be sure to only include it once in your sum.</div>\n"
   ]
  },
  {
   "cell_type": "code",
   "execution_count": null,
   "id": "8b7f0539",
   "metadata": {},
   "outputs": [],
   "source": []
  },
  {
   "cell_type": "markdown",
   "id": "ed6914af",
   "metadata": {},
   "source": [
    "### Digit cancelling fractions\n",
    "\n",
    "#### Problem 33\n",
    "\n",
    "<p>The fraction <sup>49</sup>/<sub>98</sub> is a curious fraction, as an inexperienced mathematician in attempting to simplify it may incorrectly believe that <sup>49</sup>/<sub>98</sub> = <sup>4</sup>/<sub>8</sub>, which is correct, is obtained by cancelling the 9s.</p>\n",
    "<p>We shall consider fractions like, <sup>30</sup>/<sub>50</sub> = <sup>3</sup>/<sub>5</sub>, to be trivial examples.</p>\n",
    "<p>There are exactly four non-trivial examples of this type of fraction, less than one in value, and containing two digits in the numerator and denominator.</p>\n",
    "<p>If the product of these four fractions is given in its lowest common terms, find the value of the denominator.</p>\n"
   ]
  },
  {
   "cell_type": "markdown",
   "id": "3d4e478f",
   "metadata": {},
   "source": []
  },
  {
   "cell_type": "markdown",
   "id": "30aa8300",
   "metadata": {},
   "source": [
    "### Digit factorials\n",
    "\n",
    "#### Problem 34\n",
    "\n",
    "<p>145 is a curious number, as 1! + 4! + 5! = 1 + 24 + 120 = 145.</p>\n",
    "<p>Find the sum of all numbers which are equal to the sum of the factorial of their digits.</p>\n",
    "<p class=\"smaller\">Note: As 1! = 1 and 2! = 2 are not sums they are not included.</p>\n"
   ]
  },
  {
   "cell_type": "code",
   "execution_count": null,
   "id": "7ce4b9e7",
   "metadata": {},
   "outputs": [],
   "source": []
  },
  {
   "cell_type": "markdown",
   "id": "eabec606",
   "metadata": {},
   "source": [
    "### Circular primes\n",
    "\n",
    "#### Problem 35\n",
    "\n",
    "<p>The number, 197, is called a circular prime because all rotations of the digits: 197, 971, and 719, are themselves prime.</p>\n",
    "<p>There are thirteen such primes below 100: 2, 3, 5, 7, 11, 13, 17, 31, 37, 71, 73, 79, and 97.</p>\n",
    "<p>How many circular primes are there below one million?</p>"
   ]
  },
  {
   "cell_type": "code",
   "execution_count": null,
   "id": "1a9cc117",
   "metadata": {},
   "outputs": [],
   "source": []
  },
  {
   "cell_type": "markdown",
   "id": "45e21d09",
   "metadata": {},
   "source": [
    "### Double-base palindromes\n",
    "\n",
    "#### Poblem 36\n",
    "\n",
    "<p>The decimal number, 585 = 1001001001<sub>2</sub> (binary), is palindromic in both bases.</p>\n",
    "<p>Find the sum of all numbers, less than one million, which are palindromic in base 10 and base 2.</p>\n",
    "<p class=\"smaller\">(Please note that the palindromic number, in either base, may not include leading zeros.)</p>"
   ]
  },
  {
   "cell_type": "code",
   "execution_count": null,
   "id": "7c66f94d",
   "metadata": {},
   "outputs": [],
   "source": []
  },
  {
   "cell_type": "markdown",
   "id": "0496e8fc",
   "metadata": {},
   "source": [
    "### Truncatable primes\n",
    "\n",
    "#### Problem 37\n",
    "\n",
    "<p>The number 3797 has an interesting property. Being prime itself, it is possible to continuously remove digits from left to right, and remain prime at each stage: 3797, 797, 97, and 7. Similarly we can work from right to left: 3797, 379, 37, and 3.</p>\n",
    "<p>Find the sum of the only eleven primes that are both truncatable from left to right and right to left.</p>\n",
    "<p class=\"smaller\">NOTE: 2, 3, 5, and 7 are not considered to be truncatable primes.</p>\n"
   ]
  },
  {
   "cell_type": "code",
   "execution_count": null,
   "id": "037fbb4a",
   "metadata": {},
   "outputs": [],
   "source": []
  },
  {
   "cell_type": "markdown",
   "id": "19897fee",
   "metadata": {},
   "source": [
    "### Pandigital multiples\n",
    "\n",
    "#### Problem 38\n",
    "\n",
    "<p>Take the number 192 and multiply it by each of 1, 2, and 3:</p>\n",
    "<blockquote>192 × 1 = 192<br />\n",
    "192 × 2 = 384<br />\n",
    "192 × 3 = 576</blockquote>\n",
    "<p>By concatenating each product we get the 1 to 9 pandigital, 192384576. We will call 192384576 the concatenated product of 192 and (1,2,3)</p>\n",
    "<p>The same can be achieved by starting with 9 and multiplying by 1, 2, 3, 4, and 5, giving the pandigital, 918273645, which is the concatenated product of 9 and (1,2,3,4,5).</p>\n",
    "<p>What is the largest 1 to 9 pandigital 9-digit number that can be formed as the concatenated product of an integer with (1,2, ... , <var>n</var>) where <var>n</var> &gt; 1?</p>"
   ]
  },
  {
   "cell_type": "code",
   "execution_count": null,
   "id": "33319984",
   "metadata": {},
   "outputs": [],
   "source": []
  },
  {
   "cell_type": "markdown",
   "id": "868c1d0f",
   "metadata": {},
   "source": [
    "### Integer right triangles\n",
    "\n",
    "#### Problem 39\n",
    "\n",
    "<p>Take the number 192 and multiply it by each of 1, 2, and 3:</p>\n",
    "<blockquote>192 × 1 = 192<br />\n",
    "192 × 2 = 384<br />\n",
    "192 × 3 = 576</blockquote>\n",
    "<p>By concatenating each product we get the 1 to 9 pandigital, 192384576. We will call 192384576 the concatenated product of 192 and (1,2,3)</p>\n",
    "<p>The same can be achieved by starting with 9 and multiplying by 1, 2, 3, 4, and 5, giving the pandigital, 918273645, which is the concatenated product of 9 and (1,2,3,4,5).</p>\n",
    "<p>What is the largest 1 to 9 pandigital 9-digit number that can be formed as the concatenated product of an integer with (1,2, ... , <var>n</var>) where <var>n</var> &gt; 1?</p>"
   ]
  },
  {
   "cell_type": "code",
   "execution_count": null,
   "id": "bce21ff7",
   "metadata": {},
   "outputs": [],
   "source": []
  },
  {
   "cell_type": "markdown",
   "id": "61f37078",
   "metadata": {},
   "source": [
    "#### Champernowne's constant\n",
    "\n",
    "### Problem 40\n",
    "\n",
    "<p>An irrational decimal fraction is created by concatenating the positive integers:</p>\n",
    "<p class=\"center\">0.12345678910<span class=\"red strong\">1</span>112131415161718192021...</p>\n",
    "<p>It can be seen that the 12<sup>th</sup> digit of the fractional part is 1.</p>\n",
    "<p>If <i>d</i><sub><i>n</i></sub> represents the <i>n</i><sup>th</sup> digit of the fractional part, find the value of the following expression.</p>\n",
    "<p class=\"center\"><i>d</i><sub>1</sub> × <i>d</i><sub>10</sub> × <i>d</i><sub>100</sub> × <i>d</i><sub>1000</sub> × <i>d</i><sub>10000</sub> × <i>d</i><sub>100000</sub> × <i>d</i><sub>1000000</sub></p>\n"
   ]
  },
  {
   "cell_type": "code",
   "execution_count": null,
   "id": "d2a170b7",
   "metadata": {},
   "outputs": [],
   "source": []
  }
 ],
 "metadata": {
  "kernelspec": {
   "display_name": "Python 3 (ipykernel)",
   "language": "python",
   "name": "python3"
  },
  "language_info": {
   "codemirror_mode": {
    "name": "ipython",
    "version": 3
   },
   "file_extension": ".py",
   "mimetype": "text/x-python",
   "name": "python",
   "nbconvert_exporter": "python",
   "pygments_lexer": "ipython3",
   "version": "3.10.7"
  }
 },
 "nbformat": 4,
 "nbformat_minor": 5
}
