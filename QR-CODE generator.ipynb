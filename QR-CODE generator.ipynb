{
 "cells": [
  {
   "cell_type": "code",
   "execution_count": 2,
   "id": "17a684b2",
   "metadata": {},
   "outputs": [
    {
     "name": "stdout",
     "output_type": "stream",
     "text": [
      "Requirement already satisfied: qrcode[pil] in c:\\users\\dell\\anaconda3\\lib\\site-packages (7.3.1)\n",
      "Requirement already satisfied: colorama in c:\\users\\dell\\anaconda3\\lib\\site-packages (from qrcode[pil]) (0.4.4)\n",
      "Requirement already satisfied: pillow in c:\\users\\dell\\anaconda3\\lib\\site-packages (from qrcode[pil]) (8.4.0)\n",
      "Note: you may need to restart the kernel to use updated packages.\n"
     ]
    }
   ],
   "source": [
    "pip install qrcode[pil]"
   ]
  },
  {
   "cell_type": "markdown",
   "id": "aac14433",
   "metadata": {},
   "source": [
    "### QRCODE GENERATOR"
   ]
  },
  {
   "cell_type": "code",
   "execution_count": 3,
   "id": "2d8278e4",
   "metadata": {},
   "outputs": [],
   "source": [
    "import qrcode"
   ]
  },
  {
   "cell_type": "markdown",
   "id": "7e4270b8",
   "metadata": {},
   "source": [
    "Simple QRCODE generator"
   ]
  },
  {
   "cell_type": "code",
   "execution_count": 17,
   "id": "fd196db4",
   "metadata": {},
   "outputs": [
    {
     "name": "stdout",
     "output_type": "stream",
     "text": [
      "Enter you name Monkey-D-Luffy\n",
      "Enter you phone_number 123456789\n",
      "Where are you from city or country Grand-Line\n"
     ]
    },
    {
     "data": {
      "image/png": "[encoded data removed]",
      "text/plain": [
       "<qrcode.image.pil.PilImage at 0x247c4623490>"
      ]
     },
     "execution_count": 17,
     "metadata": {},
     "output_type": "execute_result"
    }
   ],
   "source": [
    "name = input('Enter you name ')\n",
    "ph_no = input('Enter you phone_number ')\n",
    "city = input('Where are you from city or country ')\n",
    "web = 'https://www.youtube.com/watch?v=dQw4w9WgXcQ'\n",
    "\n",
    "# we are giving this format because we need to good format when we see qr code\n",
    "contact = f\"name : {name} \\n phone_number : {ph_no} \\n city/country : {city} \\n web : {web}\"\n",
    "\n",
    "#qrcode.make is to generate image\n",
    "img = qrcode.make(contact)\n",
    "\n",
    "#Below give filepath to save that image \n",
    "#img.save('/filepathtosaveimage')\n",
    "img"
   ]
  },
  {
   "cell_type": "code",
   "execution_count": 28,
   "id": "f01ca198",
   "metadata": {},
   "outputs": [
    {
     "data": {
      "image/png": "[encoded data removed]",
      "text/plain": [
       "<qrcode.image.pil.PilImage at 0x247c45e3310>"
      ]
     },
     "execution_count": 28,
     "metadata": {},
     "output_type": "execute_result"
    }
   ],
   "source": [
    "# TO CUSTOMIZE OUR QR CODE \n",
    "\n",
    "# create an instance of qrcode\n",
    "qr = qrcode.QRCode(\n",
    "    version=3,    # version is size of image(1,40)\n",
    "    box_size=5,   # box size(default = 10)\n",
    "    border=1      # border distance(default = 4)\n",
    ")\n",
    "\n",
    "\n",
    "qr.add_data(contact)\n",
    "qr.make(fit=True)\n",
    "\n",
    "img = qr.make_image(\n",
    "    fill_color = 'orange',          # color pattern of our qrcode\n",
    "    back_color = 'purple',          # background color\n",
    ")\n",
    "\n",
    "img\n",
    "\n",
    "#img.save('/filepath')             to save image"
   ]
  }
 ],
 "metadata": {
  "kernelspec": {
   "display_name": "Python 3 (ipykernel)",
   "language": "python",
   "name": "python3"
  },
  "language_info": {
   "codemirror_mode": {
    "name": "ipython",
    "version": 3
   },
   "file_extension": ".py",
   "mimetype": "text/x-python",
   "name": "python",
   "nbconvert_exporter": "python",
   "pygments_lexer": "ipython3",
   "version": "3.9.7"
  }
 },
 "nbformat": 4,
 "nbformat_minor": 5
}
