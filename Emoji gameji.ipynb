{
 "cells": [
  {
   "cell_type": "code",
   "execution_count": 123,
   "id": "cc6019af",
   "metadata": {},
   "outputs": [],
   "source": [
    "import emoji"
   ]
  },
  {
   "cell_type": "code",
   "execution_count": 124,
   "id": "b1244270",
   "metadata": {},
   "outputs": [],
   "source": [
    "import random"
   ]
  },
  {
   "cell_type": "code",
   "execution_count": 125,
   "id": "baa9e6c0",
   "metadata": {},
   "outputs": [],
   "source": [
    "def player_details():\n",
    "\n",
    "    player = input('Enter your name ').upper()\n",
    "    skin_tone = input(emoji.emojize('choose among following skin tones\\n1):boy_dark_skin_tone:\\n2):boy_light_skin_tone:\\n3):boy_medium-dark_skin_tone:\\n4):boy_medium_skin_tone:\\n5):boy_medium-light_skin_tone:\\nGive number'))\n",
    "    if skin_tone == '1':\n",
    "        player = player+emoji.emojize(':boy_dark_skin_tone:')\n",
    "    elif skin_tone == '2':\n",
    "        player = player+emoji.emojize(':boy_light_skin_tone:')\n",
    "    elif skin_tone == '3':\n",
    "        player = player+emoji.emojize(':boy_medium-dark_skin_tone:')\n",
    "    elif skin_tone == '4':\n",
    "        player = player+emoji.emojize(':boy_medium_skin_tone:')\n",
    "    else:\n",
    "        player = player+emoji.emojize(':boy_medium-light_skin_tone:')\n",
    "    computer = emoji.emojize(':desktop_computer:')\n",
    "    \n",
    "    return player,computer"
   ]
  },
  {
   "cell_type": "code",
   "execution_count": 126,
   "id": "b2ef693c",
   "metadata": {},
   "outputs": [],
   "source": [
    "def choice():\n",
    "    rock = emoji.emojize(':rice_cracker:')\n",
    "    paper = emoji.emojize(':scroll:')\n",
    "    scissor = emoji.emojize(':scissors:')\n",
    "    print(rock+'--> 1 \\n')\n",
    "    print(paper+'--> 2 \\n')\n",
    "    print(scissor+'--> 3 \\n')\n",
    "    choice=input('Choose from above :')\n",
    "    if choice=='1':\n",
    "        player_choice = rock\n",
    "    elif choice=='2':\n",
    "        player_choice = paper\n",
    "    else:\n",
    "        player_choice = scissor\n",
    "    print('\\n'+player+' choice_is '+player_choice+'\\n')\n",
    "    computer_choice = random.choice(list((rock,paper,scissor)))\n",
    "    print(computer+' choice_is '+computer_choice+'\\n')\n",
    "    return player_choice,computer_choice"
   ]
  },
  {
   "cell_type": "code",
   "execution_count": 127,
   "id": "e9f82ba9",
   "metadata": {},
   "outputs": [],
   "source": [
    "def logic(player_choice,computer_choice):\n",
    "    if player_choice == computer_choice:\n",
    "        print('DRAW')\n",
    "    elif player_choice == rock:\n",
    "        if computer_choice == paper:\n",
    "            return computer+' won'\n",
    "        else:\n",
    "            return player+' won'\n",
    "            \n",
    "    elif player_choice == paper:\n",
    "        if computer_choice == scissor:\n",
    "            return computer+' won'\n",
    "            \n",
    "        else:\n",
    "            return player+' won'\n",
    "            \n",
    "    elif player_choice == scissor:\n",
    "        if computer_choice == rock:\n",
    "            return computer+' won'\n",
    "            \n",
    "        else:\n",
    "            return player+' won'\n",
    "            "
   ]
  },
  {
   "cell_type": "code",
   "execution_count": 128,
   "id": "b54159d2",
   "metadata": {},
   "outputs": [],
   "source": [
    "def game_on():\n",
    "    \n",
    "    player,computer = player_details()\n",
    "    \n",
    "    player_won_count = 0\n",
    "    computer_won_count = 0\n",
    "    \n",
    "    for i in range(3):\n",
    "        player_choice,computer_choice = choice()\n",
    "        if logic(player_choice,computer_choice)==computer+' won':\n",
    "            computer_won_count=computer_won_count+1\n",
    "        \n",
    "        elif logic(player_choice,computer_choice)==player+' won':\n",
    "            player_won_count=player_won_count+1\n",
    "        else:\n",
    "            pass\n",
    "        \n",
    "    if player_won_count>computer_won_count:\n",
    "        print(player+'won')\n",
    "    elif player_won_count==computer_won_count:\n",
    "        print(emoji.emojize('Draw'))\n",
    "        print(\"____<>____\")\n",
    "        print('____/\\____')\n",
    "        print('____||____')\n",
    "    else:\n",
    "        print(computer+'won')   "
   ]
  },
  {
   "cell_type": "code",
   "execution_count": 130,
   "id": "8a8dc8a9",
   "metadata": {},
   "outputs": [
    {
     "name": "stdout",
     "output_type": "stream",
     "text": [
      "Enter your name maneesh\n",
      "choose among following skin tones\n",
      "1)👦🏿\n",
      "2)👦🏻\n",
      "3)👦🏾\n",
      "4)👦🏽\n",
      "5)👦🏼\n",
      "Give number3\n",
      "🍘--> 1 \n",
      "\n",
      "📜--> 2 \n",
      "\n",
      "✂️--> 3 \n",
      "\n",
      "Choose from above :2\n",
      "\n",
      "MANEESH👦🏿 choice_is 📜\n",
      "\n",
      "🖥️ choice_is ✂️\n",
      "\n",
      "🍘--> 1 \n",
      "\n",
      "📜--> 2 \n",
      "\n",
      "✂️--> 3 \n",
      "\n",
      "Choose from above :1\n",
      "\n",
      "MANEESH👦🏿 choice_is 🍘\n",
      "\n",
      "🖥️ choice_is ✂️\n",
      "\n",
      "🍘--> 1 \n",
      "\n",
      "📜--> 2 \n",
      "\n",
      "✂️--> 3 \n",
      "\n",
      "Choose from above :3\n",
      "\n",
      "MANEESH👦🏿 choice_is ✂️\n",
      "\n",
      "🖥️ choice_is 📜\n",
      "\n",
      "🖥️won\n"
     ]
    }
   ],
   "source": [
    "game_on()"
   ]
  }
 ],
 "metadata": {
  "kernelspec": {
   "display_name": "Python 3 (ipykernel)",
   "language": "python",
   "name": "python3"
  },
  "language_info": {
   "codemirror_mode": {
    "name": "ipython",
    "version": 3
   },
   "file_extension": ".py",
   "mimetype": "text/x-python",
   "name": "python",
   "nbconvert_exporter": "python",
   "pygments_lexer": "ipython3",
   "version": "3.9.7"
  }
 },
 "nbformat": 4,
 "nbformat_minor": 5
}
