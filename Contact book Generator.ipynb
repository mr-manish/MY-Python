{
 "cells": [
  {
   "cell_type": "markdown",
   "id": "a1557fe4",
   "metadata": {},
   "source": [
    "Simple contact book everytime run code to add contact"
   ]
  },
  {
   "cell_type": "code",
   "execution_count": 3,
   "id": "b6fe73cc",
   "metadata": {},
   "outputs": [
    {
     "name": "stdout",
     "output_type": "stream",
     "text": [
      "Enter the name man\n",
      "Enter the Phone_number 234\n"
     ]
    }
   ],
   "source": [
    "with open('contacts.txt',mode='a') as contacts:  # no mode w because i dont want to delete contacts each time i run code\n",
    "    name = input('Enter the name ')\n",
    "    number = input('Enter the Phone_number ')\n",
    "    contacts.writelines((name,':',number )) # it takes only one argument so add to tuple so no duplicate contacts"
   ]
  },
  {
   "cell_type": "markdown",
   "id": "7da15975",
   "metadata": {},
   "source": [
    "We dont want to run our code each time we want to add so use while loop to automate it."
   ]
  },
  {
   "cell_type": "code",
   "execution_count": 13,
   "id": "d750a9d5",
   "metadata": {},
   "outputs": [
    {
     "name": "stdout",
     "output_type": "stream",
     "text": [
      "Enter ADD-->a, SEARCH-->s ,QUIT-->q: a\n",
      "Enter the name: kosuru\n",
      "Enter the Phone_number: 1234\n",
      "\n",
      "\n",
      "Enter ADD-->a, SEARCH-->s ,QUIT-->q: s\n",
      "Search name : kosuru\n",
      "kosuru:1234\n",
      "\n",
      "\n",
      "\n",
      "Enter ADD-->a, SEARCH-->s ,QUIT-->q: a\n",
      "Enter the name: sai\n",
      "Enter the Phone_number: 123456\n",
      "\n",
      "\n",
      "Enter ADD-->a, SEARCH-->s ,QUIT-->q: a\n",
      "Enter the name: maneesh\n",
      "Enter the Phone_number: 345667\n",
      "\n",
      "\n",
      "Enter ADD-->a, SEARCH-->s ,QUIT-->q: a\n",
      "Enter the name: god\n",
      "Enter the Phone_number: 123456789\n",
      "\n",
      "\n",
      "Enter ADD-->a, SEARCH-->s ,QUIT-->q: s\n",
      "Search name : god\n",
      "god:123456789\n",
      "\n",
      "\n",
      "\n",
      "Enter ADD-->a, SEARCH-->s ,QUIT-->q: q\n",
      "\n",
      "\n"
     ]
    }
   ],
   "source": [
    "flag = True\n",
    "\n",
    "while flag:\n",
    "    \n",
    "    choice = input('Enter ADD-->a, SEARCH-->s ,QUIT-->q: ')\n",
    "    \n",
    "    if choice == 'a':  # ADDING CONTACT   \n",
    "        with open('contacts.txt',mode='a') as contacts:  \n",
    "\n",
    "            name = input('Enter the name: ')\n",
    "            number = input('Enter the Phone_number: ')\n",
    "            contacts.writelines((name,':',number,'\\n'))\n",
    "            \n",
    "    elif choice == 's': # SEARCHING CONTACT\n",
    "        \n",
    "        with open('contacts.txt',mode='r') as book: \n",
    "\n",
    "            search = input('Search name : ')  \n",
    "            for line in book:\n",
    "                if search in line:\n",
    "                    print(line)\n",
    "                    \n",
    "    elif choice == 'q': #Quitting loop\n",
    "        flag = False \n",
    "    \n",
    "    else:\n",
    "        pass\n",
    "    print('\\n')"
   ]
  }
 ],
 "metadata": {
  "kernelspec": {
   "display_name": "Python 3 (ipykernel)",
   "language": "python",
   "name": "python3"
  },
  "language_info": {
   "codemirror_mode": {
    "name": "ipython",
    "version": 3
   },
   "file_extension": ".py",
   "mimetype": "text/x-python",
   "name": "python",
   "nbconvert_exporter": "python",
   "pygments_lexer": "ipython3",
   "version": "3.9.7"
  }
 },
 "nbformat": 4,
 "nbformat_minor": 5
}
