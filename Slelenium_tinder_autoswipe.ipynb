{
 "cells": [
  {
   "cell_type": "code",
   "execution_count": 6,
   "id": "2b61bbca",
   "metadata": {},
   "outputs": [
    {
     "name": "stderr",
     "output_type": "stream",
     "text": [
      "C:\\Users\\lenovo\\AppData\\Local\\Temp\\ipykernel_4996\\3251672469.py:7: DeprecationWarning: executable_path has been deprecated, please pass in a Service object\n",
      "  driver = webdriver.Chrome(executable_path=r'C:\\Users\\lenovo\\Downloads\\chromedriver.exe', chrome_options=options)\n",
      "C:\\Users\\lenovo\\AppData\\Local\\Temp\\ipykernel_4996\\3251672469.py:7: DeprecationWarning: use options instead of chrome_options\n",
      "  driver = webdriver.Chrome(executable_path=r'C:\\Users\\lenovo\\Downloads\\chromedriver.exe', chrome_options=options)\n"
     ]
    }
   ],
   "source": [
    "from selenium import webdriver\n",
    "from selenium.webdriver.chrome.options import Options\n",
    "import time\n",
    "\n",
    "\n",
    "# You once need to manually fill the tinder details\n",
    "options = webdriver.ChromeOptions()\n",
    "options.add_argument(\"user-data-dir=C:\\\\Users\\\\lenovo\\\\AppData\\\\Local\\\\Google\\\\Chrome\\\\User Data\\\\Default\")\n",
    "driver = webdriver.Chrome(executable_path=r'C:\\Users\\lenovo\\Downloads\\chromedriver.exe', chrome_options=options)\n",
    "time.sleep(3)\n",
    "driver.get(\"https://tinder.com/app/recs\")\n",
    "time.sleep(10)\n",
    "flag = True\n",
    "while flag:\n",
    "    try:\n",
    "        a=0\n",
    "        driver.find_element('xpath','/html/body/div[1]/div/div[1]/div/main/div[1]/div/div/div[1]/div[1]/div/div[5]/div/div[4]/button').click()\n",
    "        time.sleep(2)\n",
    "        a=1\n",
    "    except:\n",
    "        pass\n",
    "    \n",
    "    try:\n",
    "        b = 0\n",
    "        driver.find_element('xpath','/html/body/div[1]/div/div[1]/div/main/div[1]/div/div/div[1]/div[1]/div/div[4]/div/div[4]/button').click()\n",
    "        time.sleep(2)\n",
    "        b = 1\n",
    "    except:\n",
    "        if a+b == 0:\n",
    "            flag = False\n",
    "        else:\n",
    "            pass"
   ]
  }
 ],
 "metadata": {
  "kernelspec": {
   "display_name": "Python 3 (ipykernel)",
   "language": "python",
   "name": "python3"
  },
  "language_info": {
   "codemirror_mode": {
    "name": "ipython",
    "version": 3
   },
   "file_extension": ".py",
   "mimetype": "text/x-python",
   "name": "python",
   "nbconvert_exporter": "python",
   "pygments_lexer": "ipython3",
   "version": "3.10.4"
  }
 },
 "nbformat": 4,
 "nbformat_minor": 5
}
